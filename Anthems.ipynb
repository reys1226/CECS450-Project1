{
 "cells": [
  {
   "cell_type": "markdown",
   "id": "fb637f70",
   "metadata": {},
   "source": [
    "# National Anthems Analysis\n",
    "\n",
    "**Description:** Interactive visualization that displays...\n",
    "\n",
    "- Isaac Cortés\n",
    "- Abhay\n",
    "- Rey\n",
    "- Danny\n",
    "- Janki"
   ]
  },
  {
   "cell_type": "code",
   "execution_count": 1,
   "id": "5ced8489",
   "metadata": {},
   "outputs": [],
   "source": [
    "# If you guys do not have the libraries you can uncomment and run this lines\n",
    "#import sys\n",
    "#!{sys.executable} -m pip install pandas numpy pycountry wordcloud"
   ]
  },
  {
   "cell_type": "code",
   "execution_count": 2,
   "id": "476407bf",
   "metadata": {},
   "outputs": [],
   "source": [
    "import pandas as pd\n",
    "import numpy as np\n",
    "import pycountry as pc\n",
    "import re\n",
    "import base64\n",
    "import matplotlib.pyplot as plt\n",
    "%matplotlib inline"
   ]
  },
  {
   "cell_type": "markdown",
   "id": "c9a22a3b",
   "metadata": {},
   "source": [
    "# Data Cleaning"
   ]
  },
  {
   "cell_type": "code",
   "execution_count": 3,
   "id": "eef51d04",
   "metadata": {
    "scrolled": true
   },
   "outputs": [],
   "source": [
    "# Importing our data set\n",
    "df = pd.read_csv('datasets/anthems.csv',usecols=['nation','url','lyrics_englishtransliteration','lyrics_english','image'])\n",
    "\n",
    "# Renaming the columns for easier manipulation\n",
    "df.rename(columns={'nation':'country','lyrics_englishtransliteration':'transliteration','lyrics_english':'english'},\n",
    "          inplace=True)"
   ]
  },
  {
   "cell_type": "code",
   "execution_count": 4,
   "id": "259e5bfc",
   "metadata": {
    "scrolled": false
   },
   "outputs": [
    {
     "data": {
      "text/html": [
       "<div>\n",
       "<style scoped>\n",
       "    .dataframe tbody tr th:only-of-type {\n",
       "        vertical-align: middle;\n",
       "    }\n",
       "\n",
       "    .dataframe tbody tr th {\n",
       "        vertical-align: top;\n",
       "    }\n",
       "\n",
       "    .dataframe thead th {\n",
       "        text-align: right;\n",
       "    }\n",
       "</style>\n",
       "<table border=\"1\" class=\"dataframe\">\n",
       "  <thead>\n",
       "    <tr style=\"text-align: right;\">\n",
       "      <th></th>\n",
       "      <th>country</th>\n",
       "      <th>url</th>\n",
       "      <th>transliteration</th>\n",
       "      <th>english</th>\n",
       "      <th>image</th>\n",
       "    </tr>\n",
       "  </thead>\n",
       "  <tbody>\n",
       "    <tr>\n",
       "      <th>0</th>\n",
       "      <td>abkhazia</td>\n",
       "      <td>https://youtu.be/1F-YWu-ucB8</td>\n",
       "      <td>Šwnejbac, šwnejbac,\\nApsuaa ryč̣ḳwyncwa.\\nApsn...</td>\n",
       "      <td>March on, march on,\\nsons of Abkhazia!\\nShed o...</td>\n",
       "      <td>iVBORw0KGgoAAAANSUhEUgAAAMgAAABkCAIAAABM5OhcAA...</td>\n",
       "    </tr>\n",
       "    <tr>\n",
       "      <th>1</th>\n",
       "      <td>Afghanistan</td>\n",
       "      <td>https://youtu.be/z_eiu2cOIRk</td>\n",
       "      <td>Dā watan Afghānistān day, dā izat də har Afghā...</td>\n",
       "      <td>This land is Afghanistan, it is the pride of e...</td>\n",
       "      <td>/9j/4AAQSkZJRgABAQEAYABgAAD/2wBDAAYEBAQFBAYFBQ...</td>\n",
       "    </tr>\n",
       "    <tr>\n",
       "      <th>2</th>\n",
       "      <td>Albania</td>\n",
       "      <td>https://youtu.be/STtkicwuzlQ</td>\n",
       "      <td>Rreth flamurit të përbashkuar Me një dëshir' e...</td>\n",
       "      <td>Around our flag we stand united,\\nWith one wis...</td>\n",
       "      <td>iVBORw0KGgoAAAANSUhEUgAAAIwAAABkCAIAAADbtU+GAA...</td>\n",
       "    </tr>\n",
       "    <tr>\n",
       "      <th>3</th>\n",
       "      <td>Algeria</td>\n",
       "      <td>https://youtu.be/7fRAwtLL5Jw</td>\n",
       "      <td>Qasaman binnazilat ilmahiqat Waddima' izzakiya...</td>\n",
       "      <td>We swear by the lightning that destroys,\\nBy t...</td>\n",
       "      <td>iVBORw0KGgoAAAANSUhEUgAAAJYAAABkCAIAAADrOV6nAA...</td>\n",
       "    </tr>\n",
       "    <tr>\n",
       "      <th>4</th>\n",
       "      <td>Andorra</td>\n",
       "      <td>https://youtu.be/bRGoJlPaIXA</td>\n",
       "      <td>El gran Carlemany, mon pare, dels alarbs em de...</td>\n",
       "      <td>The great Charlemagne, my father, from the Sar...</td>\n",
       "      <td>iVBORw0KGgoAAAANSUhEUgAAAI8AAABkCAIAAAAwgvSFAA...</td>\n",
       "    </tr>\n",
       "  </tbody>\n",
       "</table>\n",
       "</div>"
      ],
      "text/plain": [
       "       country                           url  \\\n",
       "0     abkhazia  https://youtu.be/1F-YWu-ucB8   \n",
       "1  Afghanistan  https://youtu.be/z_eiu2cOIRk   \n",
       "2      Albania  https://youtu.be/STtkicwuzlQ   \n",
       "3      Algeria  https://youtu.be/7fRAwtLL5Jw   \n",
       "4      Andorra  https://youtu.be/bRGoJlPaIXA   \n",
       "\n",
       "                                     transliteration  \\\n",
       "0  Šwnejbac, šwnejbac,\\nApsuaa ryč̣ḳwyncwa.\\nApsn...   \n",
       "1  Dā watan Afghānistān day, dā izat də har Afghā...   \n",
       "2  Rreth flamurit të përbashkuar Me një dëshir' e...   \n",
       "3  Qasaman binnazilat ilmahiqat Waddima' izzakiya...   \n",
       "4  El gran Carlemany, mon pare, dels alarbs em de...   \n",
       "\n",
       "                                             english  \\\n",
       "0  March on, march on,\\nsons of Abkhazia!\\nShed o...   \n",
       "1  This land is Afghanistan, it is the pride of e...   \n",
       "2  Around our flag we stand united,\\nWith one wis...   \n",
       "3  We swear by the lightning that destroys,\\nBy t...   \n",
       "4  The great Charlemagne, my father, from the Sar...   \n",
       "\n",
       "                                               image  \n",
       "0  iVBORw0KGgoAAAANSUhEUgAAAMgAAABkCAIAAABM5OhcAA...  \n",
       "1  /9j/4AAQSkZJRgABAQEAYABgAAD/2wBDAAYEBAQFBAYFBQ...  \n",
       "2  iVBORw0KGgoAAAANSUhEUgAAAIwAAABkCAIAAADbtU+GAA...  \n",
       "3  iVBORw0KGgoAAAANSUhEUgAAAJYAAABkCAIAAADrOV6nAA...  \n",
       "4  iVBORw0KGgoAAAANSUhEUgAAAI8AAABkCAIAAAAwgvSFAA...  "
      ]
     },
     "execution_count": 4,
     "metadata": {},
     "output_type": "execute_result"
    }
   ],
   "source": [
    "# Exploring our data\n",
    "df.head()"
   ]
  },
  {
   "cell_type": "code",
   "execution_count": 5,
   "id": "9d6b9b9b",
   "metadata": {},
   "outputs": [
    {
     "name": "stdout",
     "output_type": "stream",
     "text": [
      "Column \"image\" contains 1 NaNs.\n"
     ]
    }
   ],
   "source": [
    "# Looking for missing values\n",
    "for col in df.columns:\n",
    "    if df[col].isnull().values.any():\n",
    "        print(f\"Column \\\"{col}\\\" contains {df[col].isnull().sum()} NaNs.\")"
   ]
  },
  {
   "cell_type": "code",
   "execution_count": 6,
   "id": "358e6409",
   "metadata": {},
   "outputs": [
    {
     "data": {
      "text/html": [
       "<div>\n",
       "<style scoped>\n",
       "    .dataframe tbody tr th:only-of-type {\n",
       "        vertical-align: middle;\n",
       "    }\n",
       "\n",
       "    .dataframe tbody tr th {\n",
       "        vertical-align: top;\n",
       "    }\n",
       "\n",
       "    .dataframe thead th {\n",
       "        text-align: right;\n",
       "    }\n",
       "</style>\n",
       "<table border=\"1\" class=\"dataframe\">\n",
       "  <thead>\n",
       "    <tr style=\"text-align: right;\">\n",
       "      <th></th>\n",
       "      <th>country</th>\n",
       "      <th>url</th>\n",
       "      <th>transliteration</th>\n",
       "      <th>english</th>\n",
       "      <th>image</th>\n",
       "    </tr>\n",
       "  </thead>\n",
       "  <tbody>\n",
       "    <tr>\n",
       "      <th>104</th>\n",
       "      <td>Mali</td>\n",
       "      <td>https://youtu.be/DE4iClNU24o</td>\n",
       "      <td>A ton appel Mali Pour ta prospérité Fidèle à t...</td>\n",
       "      <td>At your call, Mali For your prosperity Loyal t...</td>\n",
       "      <td>NaN</td>\n",
       "    </tr>\n",
       "  </tbody>\n",
       "</table>\n",
       "</div>"
      ],
      "text/plain": [
       "    country                           url  \\\n",
       "104    Mali  https://youtu.be/DE4iClNU24o   \n",
       "\n",
       "                                       transliteration  \\\n",
       "104  A ton appel Mali Pour ta prospérité Fidèle à t...   \n",
       "\n",
       "                                               english image  \n",
       "104  At your call, Mali For your prosperity Loyal t...   NaN  "
      ]
     },
     "execution_count": 6,
     "metadata": {},
     "output_type": "execute_result"
    }
   ],
   "source": [
    "df[df['image'].isna()]"
   ]
  },
  {
   "cell_type": "code",
   "execution_count": 7,
   "id": "1fa09636",
   "metadata": {},
   "outputs": [],
   "source": [
    "# Remove parenthesis abbreviations\n",
    "# E.g. United States of America (USA) -> United States of America\n",
    "\n",
    "def remove_abbr(row):\n",
    "    country = row['country']\n",
    "    regx = r'\\s\\(.*\\)'\n",
    "    row['country'] = re.sub(regx, '', country)        \n",
    "    return row\n",
    "\n",
    "df = df.apply(remove_abbr,axis=1)"
   ]
  },
  {
   "cell_type": "code",
   "execution_count": 8,
   "id": "0372eca3",
   "metadata": {
    "scrolled": true
   },
   "outputs": [
    {
     "name": "stdout",
     "output_type": "stream",
     "text": [
      "Number of countries without alpha codes: 0\n"
     ]
    }
   ],
   "source": [
    "# Adding alpha codes\n",
    "# E.g. Brazil -> BRA\n",
    "\n",
    "def alpha_codes(row):\n",
    "    country = pc.countries.get(name=row['country'])\n",
    "    \n",
    "    # If the country name in the data set gives a direct result, add it\n",
    "    if pc.countries.get(name=row['country']) is not None:\n",
    "        alpha_3 = country.alpha_3\n",
    "    else:\n",
    "        # If not then try a fuzzy search\n",
    "        try:\n",
    "            search_res = pc.countries.search_fuzzy(row['country'])\n",
    "            alpha_3 = search_res[0].alpha_3\n",
    "        except LookupError:\n",
    "            alpha_3 = ''\n",
    "            print(f\"{row['country']} not found\")\n",
    "        \n",
    "    row['alpha3'] = alpha_3\n",
    "    return row\n",
    "\n",
    "# Two specific cases:\n",
    "df.replace({'Laos':'Lao','Congo, Democratic Republic of the':'Congo, The Democratic Republic of the'},inplace=True)\n",
    "\n",
    "# Applying the alpha codes\n",
    "df = df.apply(alpha_codes,axis=1)\n",
    "print(f\"Number of countries without alpha codes: {len(df[df['alpha3'] == ''])}\")"
   ]
  },
  {
   "cell_type": "code",
   "execution_count": 9,
   "id": "fb399449",
   "metadata": {},
   "outputs": [],
   "source": [
    "# Exporting clean dataframe\n",
    "df.to_csv('datasets/clean_anthems.csv')"
   ]
  },
  {
   "cell_type": "markdown",
   "id": "64723250",
   "metadata": {},
   "source": [
    "# Creating the wordcloud"
   ]
  },
  {
   "cell_type": "markdown",
   "id": "7266f87c",
   "metadata": {},
   "source": [
    "### Getting the flag image"
   ]
  },
  {
   "cell_type": "markdown",
   "id": "257ceebb",
   "metadata": {},
   "source": [
    "<div class=\"alert alert-block alert-warning\">\n",
    "\n",
    "<b>Note:</b> The images that are generated from the data set base64 string might not be the right size to create the wordclous, in that case we might need to **resize the image with Python** or  use the API (https://www.countryflagsapi.com/).\n",
    "\n",
    "    \n",
    "</div>"
   ]
  },
  {
   "cell_type": "code",
   "execution_count": 10,
   "id": "b4a9c11f",
   "metadata": {
    "scrolled": false
   },
   "outputs": [
    {
     "name": "stdout",
     "output_type": "stream",
     "text": [
      "Record #80 is: Israel ISR\n"
     ]
    },
    {
     "data": {
      "image/jpeg": "[encoded data removed]",
      "text/plain": [
       "<IPython.core.display.Image object>"
      ]
     },
     "execution_count": 10,
     "metadata": {},
     "output_type": "execute_result"
    }
   ],
   "source": [
    "def decode_flag(encoded_data):\n",
    "    decoded_data = base64.b64decode((encoded_data))\n",
    "    flag = open('flag.jpeg', 'wb')\n",
    "    flag.write(decoded_data)\n",
    "    flag.close()\n",
    "    \n",
    "    \n",
    "from IPython.display import Image as DisplayImage\n",
    "import random\n",
    "\n",
    "rand = random.randrange(len(df))\n",
    "country = df['image'][rand]\n",
    "decode_flag(country)\n",
    "\n",
    "print(f\"Record #{rand} is: {df['country'][rand]} {df['alpha3'][rand]}\")\n",
    "DisplayImage(filename='flag.jpeg') "
   ]
  },
  {
   "cell_type": "markdown",
   "id": "8ac56aa1",
   "metadata": {},
   "source": [
    "### Coding the wordcloud"
   ]
  },
  {
   "cell_type": "code",
   "execution_count": 11,
   "id": "714f2f90",
   "metadata": {},
   "outputs": [
    {
     "name": "stdout",
     "output_type": "stream",
     "text": [
      "Country: italy\n",
      "Brothers of Italy, Italy has woken, bound Scipio's helmet Upon her head. Where is Victory? Let her bow down, Because [as a] slave of Rome God created her. Let us join in a cohort, we are ready to die. We are ready to die, Italy has called. Let us join in a cohort, We are ready to die. We are ready to die, Italy has called! Yes! We were for centuries downtrodden, derided, because we are not one people, because we are divided. Let one flag, one hope gather us all. The hour has struck for us to unite. Let us unite, let us love one another, Union and love Reveal to the peoples The ways of the Lord. Let us swear to set free The land of our birth: United, by God, Who can overcome us? Let us join in a cohort, we are ready to die. We are ready to die, Italy has called. Let us join in a cohort, We are ready to die. We are ready to die, Italy has called! Yes! From the Alps to Sicily, Legnano is everywhere; Every man has the heart and hand of Ferruccio The children of Italy Are all called Balilla; Every trumpet blast sounds the Vespers. The mercenary swords Are feeble reeds. Already the Eagle of Austria Has lost its plumes. The blood of Italy, the Polish blood It drank, along with the Cossack, But it burned its heart. Let us join in a cohort, we are ready to die. We are ready to die, Italy has called. Let us join in a cohort, We are ready to die. We are ready to die, Italy has called! Yes!\n"
     ]
    },
    {
     "data": {
      "image/jpeg": "[encoded data removed]",
      "text/plain": [
       "<IPython.core.display.Image object>"
      ]
     },
     "execution_count": 11,
     "metadata": {},
     "output_type": "execute_result"
    }
   ],
   "source": [
    "# Search \n",
    "search = input(\"Country: \")\n",
    "search_res = pc.countries.search_fuzzy(search)\n",
    "country = search_res[0].alpha_3\n",
    "\n",
    "idx = df.index[df['alpha3'] == country].tolist()[0]\n",
    "anthem = df['english'][idx]\n",
    "decode_flag(df['image'][idx])\n",
    "\n",
    "print(anthem)\n",
    "DisplayImage(filename='flag.jpeg') "
   ]
  },
  {
   "cell_type": "code",
   "execution_count": 12,
   "id": "2c6ad1dc",
   "metadata": {},
   "outputs": [
    {
     "data": {
      "text/plain": [
       "<matplotlib.image.AxesImage at 0x19cf6d90070>"
      ]
     },
     "execution_count": 12,
     "metadata": {},
     "output_type": "execute_result"
    },
    {
     "data": {
      "image/png": "[encoded data removed]",
      "text/plain": [
       "<Figure size 504x504 with 1 Axes>"
      ]
     },
     "metadata": {
      "needs_background": "light"
     },
     "output_type": "display_data"
    }
   ],
   "source": [
    "# Example followed: https://www.datacamp.com/tutorial/wordcloud-python\n",
    "\n",
    "from wordcloud import WordCloud, STOPWORDS, ImageColorGenerator\n",
    "from PIL import Image\n",
    "\n",
    "# Get stopwords from WordCloud library\n",
    "stopwords = set(STOPWORDS)\n",
    "# Add words to the stopwords list\n",
    "stopwords.update([\"neword\"])\n",
    "\n",
    "mask = np.array(Image.open(\"flag.jpeg\"))\n",
    "wordcloud = WordCloud(stopwords=stopwords, background_color=\"white\", mode=\"RGBA\", max_words=1000, mask=mask).generate(anthem)\n",
    "\n",
    "# create coloring from image\n",
    "image_colors = ImageColorGenerator(mask)\n",
    "plt.figure(figsize=[7,7])\n",
    "plt.axis(\"off\")\n",
    "plt.imshow(wordcloud.recolor(color_func=image_colors), interpolation=\"bilinear\")"
   ]
  }
 ],
 "metadata": {
  "kernelspec": {
   "display_name": "Python 3",
   "language": "python",
   "name": "python3"
  },
  "language_info": {
   "codemirror_mode": {
    "name": "ipython",
    "version": 3
   },
   "file_extension": ".py",
   "mimetype": "text/x-python",
   "name": "python",
   "nbconvert_exporter": "python",
   "pygments_lexer": "ipython3",
   "version": "3.8.8"
  }
 },
 "nbformat": 4,
 "nbformat_minor": 5
}
